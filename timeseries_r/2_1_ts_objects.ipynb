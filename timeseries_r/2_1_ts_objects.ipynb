{
 "cells": [
  {
   "cell_type": "code",
   "execution_count": 1,
   "metadata": {},
   "outputs": [],
   "source": [
    "source(file = \"util.r\")"
   ]
  },
  {
   "cell_type": "code",
   "execution_count": 2,
   "metadata": {},
   "outputs": [],
   "source": [
    "install_packages(c('forecast', 'zoo', 'xts', 'ggplot2'), quietly=TRUE, warn.conflicts=FALSE) # explicitly add zoo to hide warning messages"
   ]
  },
  {
   "cell_type": "code",
   "execution_count": 3,
   "metadata": {},
   "outputs": [],
   "source": [
    "data = get_bond_yields_uk_10y_data('quarterly_csv.csv')"
   ]
  },
  {
   "cell_type": "code",
   "execution_count": 4,
   "metadata": {},
   "outputs": [
    {
     "data": {
      "text/html": [
       "<table>\n",
       "<thead><tr><th scope=col>Date</th><th scope=col>Rate</th></tr></thead>\n",
       "<tbody>\n",
       "\t<tr><td>1984-03-31</td><td>10.9817   </td></tr>\n",
       "\t<tr><td>1984-06-30</td><td>11.5721   </td></tr>\n",
       "\t<tr><td>1984-09-30</td><td>11.9866   </td></tr>\n",
       "\t<tr><td>1984-12-31</td><td>11.1937   </td></tr>\n",
       "\t<tr><td>1985-03-31</td><td>11.6959   </td></tr>\n",
       "\t<tr><td>1985-06-30</td><td>11.3342   </td></tr>\n",
       "</tbody>\n",
       "</table>\n"
      ],
      "text/latex": [
       "\\begin{tabular}{r|ll}\n",
       " Date & Rate\\\\\n",
       "\\hline\n",
       "\t 1984-03-31 & 10.9817   \\\\\n",
       "\t 1984-06-30 & 11.5721   \\\\\n",
       "\t 1984-09-30 & 11.9866   \\\\\n",
       "\t 1984-12-31 & 11.1937   \\\\\n",
       "\t 1985-03-31 & 11.6959   \\\\\n",
       "\t 1985-06-30 & 11.3342   \\\\\n",
       "\\end{tabular}\n"
      ],
      "text/markdown": [
       "\n",
       "| Date | Rate |\n",
       "|---|---|\n",
       "| 1984-03-31 | 10.9817    |\n",
       "| 1984-06-30 | 11.5721    |\n",
       "| 1984-09-30 | 11.9866    |\n",
       "| 1984-12-31 | 11.1937    |\n",
       "| 1985-03-31 | 11.6959    |\n",
       "| 1985-06-30 | 11.3342    |\n",
       "\n"
      ],
      "text/plain": [
       "  Date       Rate   \n",
       "1 1984-03-31 10.9817\n",
       "2 1984-06-30 11.5721\n",
       "3 1984-09-30 11.9866\n",
       "4 1984-12-31 11.1937\n",
       "5 1985-03-31 11.6959\n",
       "6 1985-06-30 11.3342"
      ]
     },
     "metadata": {},
     "output_type": "display_data"
    }
   ],
   "source": [
    "head(data)"
   ]
  },
  {
   "cell_type": "code",
   "execution_count": 5,
   "metadata": {},
   "outputs": [],
   "source": [
    "data.ts = ts(data$Rate, start = c(1984, 03), frequency = 4)"
   ]
  },
  {
   "cell_type": "code",
   "execution_count": 6,
   "metadata": {},
   "outputs": [
    {
     "data": {
      "text/html": [
       "4"
      ],
      "text/latex": [
       "4"
      ],
      "text/markdown": [
       "4"
      ],
      "text/plain": [
       "[1] 4"
      ]
     },
     "metadata": {},
     "output_type": "display_data"
    }
   ],
   "source": [
    "frequency(data.ts)"
   ]
  },
  {
   "cell_type": "code",
   "execution_count": 7,
   "metadata": {},
   "outputs": [
    {
     "name": "stderr",
     "output_type": "stream",
     "text": [
      "ERROR while rich displaying an object: Error in repr_matrix_generic(obj, \"\\n%s%s\\n\", sprintf(\"|%%s\\n|%s|\\n\", : formal argument \"cols\" matched by multiple actual arguments\n",
      "\n",
      "Traceback:\n",
      "1. FUN(X[[i]], ...)\n",
      "2. tryCatch(withCallingHandlers({\n",
      " .     if (!mime %in% names(repr::mime2repr)) \n",
      " .         stop(\"No repr_* for mimetype \", mime, \" in repr::mime2repr\")\n",
      " .     rpr <- repr::mime2repr[[mime]](obj)\n",
      " .     if (is.null(rpr)) \n",
      " .         return(NULL)\n",
      " .     prepare_content(is.raw(rpr), rpr)\n",
      " . }, error = error_handler), error = outer_handler)\n",
      "3. tryCatchList(expr, classes, parentenv, handlers)\n",
      "4. tryCatchOne(expr, names, parentenv, handlers[[1L]])\n",
      "5. doTryCatch(return(expr), name, parentenv, handler)\n",
      "6. withCallingHandlers({\n",
      " .     if (!mime %in% names(repr::mime2repr)) \n",
      " .         stop(\"No repr_* for mimetype \", mime, \" in repr::mime2repr\")\n",
      " .     rpr <- repr::mime2repr[[mime]](obj)\n",
      " .     if (is.null(rpr)) \n",
      " .         return(NULL)\n",
      " .     prepare_content(is.raw(rpr), rpr)\n",
      " . }, error = error_handler)\n",
      "7. repr::mime2repr[[mime]](obj)\n",
      "8. repr_markdown.ts(obj)\n",
      "9. repr_ts_generic(obj, repr_markdown.matrix, ...)\n",
      "10. repr_func(m, ..., rows = nrow(m), cols = ncol(m))\n"
     ]
    },
    {
     "data": {
      "text/html": [
       "<table>\n",
       "<thead><tr><th></th><th scope=col>Qtr1</th><th scope=col>Qtr2</th><th scope=col>Qtr3</th><th scope=col>Qtr4</th></tr></thead>\n",
       "<tbody>\n",
       "\t<tr><th scope=row>1984</th><td>       </td><td>       </td><td>10.9817</td><td>11.5721</td></tr>\n",
       "\t<tr><th scope=row>1985</th><td>11.9866</td><td>11.1937</td><td>11.6959</td><td>11.3342</td></tr>\n",
       "\t<tr><th scope=row>1986</th><td>10.8519</td><td>10.7861</td><td>10.7366</td><td> 9.1066</td></tr>\n",
       "\t<tr><th scope=row>1987</th><td> 9.8473</td><td>11.1436</td><td> 9.9135</td><td> 9.1440</td></tr>\n",
       "\t<tr><th scope=row>1988</th><td>10.0080</td><td> 9.7790</td><td> 9.6146</td><td> 9.5053</td></tr>\n",
       "\t<tr><th scope=row>1989</th><td>10.0487</td><td> 9.9923</td><td> 9.9431</td><td>10.3844</td></tr>\n",
       "\t<tr><th scope=row>1990</th><td>10.1543</td><td>10.5856</td><td>11.5444</td><td>12.1725</td></tr>\n",
       "\t<tr><th scope=row>1991</th><td>11.9184</td><td>11.2700</td><td>10.3594</td><td>10.4031</td></tr>\n",
       "\t<tr><th scope=row>1992</th><td>10.0204</td><td> 9.7633</td><td> 9.5340</td><td> 9.2368</td></tr>\n",
       "\t<tr><th scope=row>1993</th><td> 9.2197</td><td> 8.4937</td><td> 8.0831</td><td> 8.0837</td></tr>\n",
       "\t<tr><th scope=row>1994</th><td> 7.3236</td><td> 6.7783</td><td> 6.8781</td><td> 8.2991</td></tr>\n",
       "\t<tr><th scope=row>1995</th><td> 8.6962</td><td> 8.6666</td><td> 8.6595</td><td> 8.2308</td></tr>\n",
       "\t<tr><th scope=row>1996</th><td> 8.1091</td><td> 7.8023</td><td> 7.7483</td><td> 8.0674</td></tr>\n",
       "\t<tr><th scope=row>1997</th><td> 7.8531</td><td> 7.5685</td><td> 7.4061</td><td> 7.3234</td></tr>\n",
       "\t<tr><th scope=row>1998</th><td> 6.9875</td><td> 6.5013</td><td> 6.0444</td><td> 5.8191</td></tr>\n",
       "\t<tr><th scope=row>1999</th><td> 5.5210</td><td> 4.8223</td><td> 4.4674</td><td> 4.8991</td></tr>\n",
       "\t<tr><th scope=row>2000</th><td> 5.4991</td><td> 5.5267</td><td> 5.5986</td><td> 5.3093</td></tr>\n",
       "\t<tr><th scope=row>2001</th><td> 5.3193</td><td> 5.0838</td><td> 4.7906</td><td> 5.0903</td></tr>\n",
       "\t<tr><th scope=row>2002</th><td> 5.0611</td><td> 4.7772</td><td> 5.0175</td><td> 5.2065</td></tr>\n",
       "\t<tr><th scope=row>2003</th><td> 4.7575</td><td> 4.6070</td><td> 4.3119</td><td> 4.2637</td></tr>\n",
       "\t<tr><th scope=row>2004</th><td> 4.5715</td><td> 4.9528</td><td> 4.7649</td><td> 5.0929</td></tr>\n",
       "\t<tr><th scope=row>2005</th><td> 5.0088</td><td> 4.6639</td><td> 4.6446</td><td> 4.4392</td></tr>\n",
       "\t<tr><th scope=row>2006</th><td> 4.2786</td><td> 4.2947</td><td> 4.1870</td><td> 4.6158</td></tr>\n",
       "\t<tr><th scope=row>2007</th><td> 4.6211</td><td> 4.5922</td><td> 4.8606</td><td> 5.2126</td></tr>\n",
       "\t<tr><th scope=row>2008</th><td> 5.1897</td><td> 4.7998</td><td> 4.5223</td><td> 4.9037</td></tr>\n",
       "\t<tr><th scope=row>2009</th><td> 4.7878</td><td> 4.1650</td><td> 3.5295</td><td> 3.5872</td></tr>\n",
       "\t<tr><th scope=row>2010</th><td> 3.7335</td><td> 3.7361</td><td> 4.0540</td><td> 3.8196</td></tr>\n",
       "\t<tr><th scope=row>2011</th><td> 3.2904</td><td> 3.3295</td><td> 3.7799</td><td> 3.5489</td></tr>\n",
       "\t<tr><th scope=row>2012</th><td> 2.8602</td><td> 2.3362</td><td> 2.2191</td><td> 1.9727</td></tr>\n",
       "\t<tr><th scope=row>2013</th><td> 1.6814</td><td> 1.7949</td><td> 2.0782</td><td> 2.0069</td></tr>\n",
       "\t<tr><th scope=row>2014</th><td> 2.6684</td><td> 2.7887</td><td> 2.8376</td><td> 2.7423</td></tr>\n",
       "\t<tr><th scope=row>2015</th><td> 2.5908</td><td> 2.1151</td><td> 1.7074</td><td> 1.9884</td></tr>\n",
       "\t<tr><th scope=row>2016</th><td> 2.0016</td><td> 1.9147</td><td> 1.6072</td><td> 1.4684</td></tr>\n",
       "\t<tr><th scope=row>2017</th><td> 0.8393</td><td> 1.2970</td><td> 1.3032</td><td> 1.0942</td></tr>\n",
       "\t<tr><th scope=row>2018</th><td> 1.2116</td><td> 1.3323</td><td> 1.4982</td><td> 1.4779</td></tr>\n",
       "\t<tr><th scope=row>2019</th><td> 1.4227</td><td> 1.4452</td><td>       </td><td>       </td></tr>\n",
       "</tbody>\n",
       "</table>\n"
      ],
      "text/latex": [
       "\\begin{tabular}{r|llll}\n",
       "  & Qtr1 & Qtr2 & Qtr3 & Qtr4\\\\\n",
       "\\hline\n",
       "\t1984 &         &         & 10.9817 & 11.5721\\\\\n",
       "\t1985 & 11.9866 & 11.1937 & 11.6959 & 11.3342\\\\\n",
       "\t1986 & 10.8519 & 10.7861 & 10.7366 &  9.1066\\\\\n",
       "\t1987 &  9.8473 & 11.1436 &  9.9135 &  9.1440\\\\\n",
       "\t1988 & 10.0080 &  9.7790 &  9.6146 &  9.5053\\\\\n",
       "\t1989 & 10.0487 &  9.9923 &  9.9431 & 10.3844\\\\\n",
       "\t1990 & 10.1543 & 10.5856 & 11.5444 & 12.1725\\\\\n",
       "\t1991 & 11.9184 & 11.2700 & 10.3594 & 10.4031\\\\\n",
       "\t1992 & 10.0204 &  9.7633 &  9.5340 &  9.2368\\\\\n",
       "\t1993 &  9.2197 &  8.4937 &  8.0831 &  8.0837\\\\\n",
       "\t1994 &  7.3236 &  6.7783 &  6.8781 &  8.2991\\\\\n",
       "\t1995 &  8.6962 &  8.6666 &  8.6595 &  8.2308\\\\\n",
       "\t1996 &  8.1091 &  7.8023 &  7.7483 &  8.0674\\\\\n",
       "\t1997 &  7.8531 &  7.5685 &  7.4061 &  7.3234\\\\\n",
       "\t1998 &  6.9875 &  6.5013 &  6.0444 &  5.8191\\\\\n",
       "\t1999 &  5.5210 &  4.8223 &  4.4674 &  4.8991\\\\\n",
       "\t2000 &  5.4991 &  5.5267 &  5.5986 &  5.3093\\\\\n",
       "\t2001 &  5.3193 &  5.0838 &  4.7906 &  5.0903\\\\\n",
       "\t2002 &  5.0611 &  4.7772 &  5.0175 &  5.2065\\\\\n",
       "\t2003 &  4.7575 &  4.6070 &  4.3119 &  4.2637\\\\\n",
       "\t2004 &  4.5715 &  4.9528 &  4.7649 &  5.0929\\\\\n",
       "\t2005 &  5.0088 &  4.6639 &  4.6446 &  4.4392\\\\\n",
       "\t2006 &  4.2786 &  4.2947 &  4.1870 &  4.6158\\\\\n",
       "\t2007 &  4.6211 &  4.5922 &  4.8606 &  5.2126\\\\\n",
       "\t2008 &  5.1897 &  4.7998 &  4.5223 &  4.9037\\\\\n",
       "\t2009 &  4.7878 &  4.1650 &  3.5295 &  3.5872\\\\\n",
       "\t2010 &  3.7335 &  3.7361 &  4.0540 &  3.8196\\\\\n",
       "\t2011 &  3.2904 &  3.3295 &  3.7799 &  3.5489\\\\\n",
       "\t2012 &  2.8602 &  2.3362 &  2.2191 &  1.9727\\\\\n",
       "\t2013 &  1.6814 &  1.7949 &  2.0782 &  2.0069\\\\\n",
       "\t2014 &  2.6684 &  2.7887 &  2.8376 &  2.7423\\\\\n",
       "\t2015 &  2.5908 &  2.1151 &  1.7074 &  1.9884\\\\\n",
       "\t2016 &  2.0016 &  1.9147 &  1.6072 &  1.4684\\\\\n",
       "\t2017 &  0.8393 &  1.2970 &  1.3032 &  1.0942\\\\\n",
       "\t2018 &  1.2116 &  1.3323 &  1.4982 &  1.4779\\\\\n",
       "\t2019 &  1.4227 &  1.4452 &         &        \\\\\n",
       "\\end{tabular}\n"
      ],
      "text/plain": [
       "     Qtr1    Qtr2    Qtr3    Qtr4   \n",
       "1984                 10.9817 11.5721\n",
       "1985 11.9866 11.1937 11.6959 11.3342\n",
       "1986 10.8519 10.7861 10.7366  9.1066\n",
       "1987  9.8473 11.1436  9.9135  9.1440\n",
       "1988 10.0080  9.7790  9.6146  9.5053\n",
       "1989 10.0487  9.9923  9.9431 10.3844\n",
       "1990 10.1543 10.5856 11.5444 12.1725\n",
       "1991 11.9184 11.2700 10.3594 10.4031\n",
       "1992 10.0204  9.7633  9.5340  9.2368\n",
       "1993  9.2197  8.4937  8.0831  8.0837\n",
       "1994  7.3236  6.7783  6.8781  8.2991\n",
       "1995  8.6962  8.6666  8.6595  8.2308\n",
       "1996  8.1091  7.8023  7.7483  8.0674\n",
       "1997  7.8531  7.5685  7.4061  7.3234\n",
       "1998  6.9875  6.5013  6.0444  5.8191\n",
       "1999  5.5210  4.8223  4.4674  4.8991\n",
       "2000  5.4991  5.5267  5.5986  5.3093\n",
       "2001  5.3193  5.0838  4.7906  5.0903\n",
       "2002  5.0611  4.7772  5.0175  5.2065\n",
       "2003  4.7575  4.6070  4.3119  4.2637\n",
       "2004  4.5715  4.9528  4.7649  5.0929\n",
       "2005  5.0088  4.6639  4.6446  4.4392\n",
       "2006  4.2786  4.2947  4.1870  4.6158\n",
       "2007  4.6211  4.5922  4.8606  5.2126\n",
       "2008  5.1897  4.7998  4.5223  4.9037\n",
       "2009  4.7878  4.1650  3.5295  3.5872\n",
       "2010  3.7335  3.7361  4.0540  3.8196\n",
       "2011  3.2904  3.3295  3.7799  3.5489\n",
       "2012  2.8602  2.3362  2.2191  1.9727\n",
       "2013  1.6814  1.7949  2.0782  2.0069\n",
       "2014  2.6684  2.7887  2.8376  2.7423\n",
       "2015  2.5908  2.1151  1.7074  1.9884\n",
       "2016  2.0016  1.9147  1.6072  1.4684\n",
       "2017  0.8393  1.2970  1.3032  1.0942\n",
       "2018  1.2116  1.3323  1.4982  1.4779\n",
       "2019  1.4227  1.4452                "
      ]
     },
     "metadata": {},
     "output_type": "display_data"
    }
   ],
   "source": [
    "data.ts  # see here for jupyter error - https://github.com/IRkernel/repr/issues/97"
   ]
  },
  {
   "cell_type": "code",
   "execution_count": null,
   "metadata": {},
   "outputs": [],
   "source": []
  }
 ],
 "metadata": {
  "kernelspec": {
   "display_name": "R",
   "language": "R",
   "name": "ir"
  },
  "language_info": {
   "codemirror_mode": "r",
   "file_extension": ".r",
   "mimetype": "text/x-r-source",
   "name": "R",
   "pygments_lexer": "r",
   "version": "3.5.1"
  }
 },
 "nbformat": 4,
 "nbformat_minor": 2
}
