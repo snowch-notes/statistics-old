{
 "cells": [
  {
   "cell_type": "code",
   "execution_count": 1,
   "metadata": {},
   "outputs": [
    {
     "name": "stderr",
     "output_type": "stream",
     "text": [
      "Loading required package: jsonlite\n",
      "Loading required package: forecast\n",
      "Loading required package: xts\n",
      "Loading required package: zoo\n",
      "\n",
      "Attaching package: ‘zoo’\n",
      "\n",
      "The following objects are masked from ‘package:base’:\n",
      "\n",
      "    as.Date, as.Date.numeric\n",
      "\n",
      "Loading required package: ggplot2\n"
     ]
    }
   ],
   "source": [
    "if(!require(jsonlite)){\n",
    "    install.packages(\"jsonlite\", repos=\"https://cran.rstudio.com/\")\n",
    "    library(jsonlite)\n",
    "}\n",
    "if(!require(forecast)){\n",
    "    install.packages(\"forecast\")\n",
    "    library(forecast)\n",
    "}\n",
    "if(!require(xts)){\n",
    "    install.packages(\"xts\")\n",
    "    library(xts)\n",
    "}\n",
    "if(!require(ggplot2)){\n",
    "    install.packages(\"ggplot2\")\n",
    "    library(ggplot2)\n",
    "}\n",
    "library(repr)\n",
    "\n",
    "options(repr.plot.width=6, repr.plot.height=3)"
   ]
  },
  {
   "cell_type": "code",
   "execution_count": 2,
   "metadata": {},
   "outputs": [],
   "source": [
    "get_data <- function(required_dataset) \n",
    "{\n",
    "    json_file <- 'https://datahub.io/core/bond-yields-uk-10y/datapackage.json'\n",
    "    json_data <- fromJSON(paste(readLines(json_file), collapse=\"\"))\n",
    "\n",
    "    for(i in 1:length(json_data$resources$datahub$type)){\n",
    "      if(json_data$resources$datahub$type[i]=='derived/csv' ){\n",
    "\n",
    "        path_to_file = json_data$resources$path[i]\n",
    "        file_name = tail(unlist(strsplit(path_to_file, '/')), 1)\n",
    "\n",
    "        if(file_name == required_dataset){\n",
    "            data <- read.csv(url(path_to_file))\n",
    "        }\n",
    "      }\n",
    "    }\n",
    "    return(data)\n",
    "}"
   ]
  },
  {
   "cell_type": "code",
   "execution_count": 3,
   "metadata": {},
   "outputs": [
    {
     "name": "stderr",
     "output_type": "stream",
     "text": [
      "Warning message in readLines(json_file):\n",
      "“incomplete final line found on 'https://datahub.io/core/bond-yields-uk-10y/datapackage.json'”"
     ]
    }
   ],
   "source": [
    "data = get_data('quarterly_csv.csv')"
   ]
  },
  {
   "cell_type": "code",
   "execution_count": 4,
   "metadata": {},
   "outputs": [
    {
     "data": {
      "text/html": [
       "<table>\n",
       "<thead><tr><th scope=col>Date</th><th scope=col>Rate</th></tr></thead>\n",
       "<tbody>\n",
       "\t<tr><td>1984-03-31</td><td>10.9817   </td></tr>\n",
       "\t<tr><td>1984-06-30</td><td>11.5721   </td></tr>\n",
       "\t<tr><td>1984-09-30</td><td>11.9866   </td></tr>\n",
       "\t<tr><td>1984-12-31</td><td>11.1937   </td></tr>\n",
       "\t<tr><td>1985-03-31</td><td>11.6959   </td></tr>\n",
       "\t<tr><td>1985-06-30</td><td>11.3342   </td></tr>\n",
       "</tbody>\n",
       "</table>\n"
      ],
      "text/latex": [
       "\\begin{tabular}{r|ll}\n",
       " Date & Rate\\\\\n",
       "\\hline\n",
       "\t 1984-03-31 & 10.9817   \\\\\n",
       "\t 1984-06-30 & 11.5721   \\\\\n",
       "\t 1984-09-30 & 11.9866   \\\\\n",
       "\t 1984-12-31 & 11.1937   \\\\\n",
       "\t 1985-03-31 & 11.6959   \\\\\n",
       "\t 1985-06-30 & 11.3342   \\\\\n",
       "\\end{tabular}\n"
      ],
      "text/markdown": [
       "\n",
       "| Date | Rate |\n",
       "|---|---|\n",
       "| 1984-03-31 | 10.9817    |\n",
       "| 1984-06-30 | 11.5721    |\n",
       "| 1984-09-30 | 11.9866    |\n",
       "| 1984-12-31 | 11.1937    |\n",
       "| 1985-03-31 | 11.6959    |\n",
       "| 1985-06-30 | 11.3342    |\n",
       "\n"
      ],
      "text/plain": [
       "  Date       Rate   \n",
       "1 1984-03-31 10.9817\n",
       "2 1984-06-30 11.5721\n",
       "3 1984-09-30 11.9866\n",
       "4 1984-12-31 11.1937\n",
       "5 1985-03-31 11.6959\n",
       "6 1985-06-30 11.3342"
      ]
     },
     "metadata": {},
     "output_type": "display_data"
    }
   ],
   "source": [
    "head(data)"
   ]
  },
  {
   "cell_type": "markdown",
   "metadata": {},
   "source": [
    "### TS"
   ]
  },
  {
   "cell_type": "code",
   "execution_count": 5,
   "metadata": {},
   "outputs": [],
   "source": [
    "data.ts = ts(data$Rate, start = c(1984, 03), frequency = 4)"
   ]
  },
  {
   "cell_type": "code",
   "execution_count": 6,
   "metadata": {},
   "outputs": [
    {
     "data": {
      "text/html": [
       "4"
      ],
      "text/latex": [
       "4"
      ],
      "text/markdown": [
       "4"
      ],
      "text/plain": [
       "[1] 4"
      ]
     },
     "metadata": {},
     "output_type": "display_data"
    }
   ],
   "source": [
    "frequency(data.ts)"
   ]
  },
  {
   "cell_type": "code",
   "execution_count": 7,
   "metadata": {},
   "outputs": [
    {
     "data": {
      "image/png": "[encoded data removed]",
      "text/plain": [
       "plot without title"
      ]
     },
     "metadata": {},
     "output_type": "display_data"
    }
   ],
   "source": [
    "autoplot(data.ts) +\n",
    "  ggtitle(\"10y UK Government Bond Yields (long-term interest rate)\") +\n",
    "  xlab(\"Year\") +\n",
    "  ylab(\"Rate\")"
   ]
  },
  {
   "cell_type": "markdown",
   "metadata": {},
   "source": [
    "### XTS"
   ]
  },
  {
   "cell_type": "code",
   "execution_count": 8,
   "metadata": {},
   "outputs": [],
   "source": [
    "data.xts = xts(x = data$Rate, order.by = as.POSIXct(data$Date))"
   ]
  },
  {
   "cell_type": "code",
   "execution_count": 9,
   "metadata": {},
   "outputs": [
    {
     "data": {
      "text/plain": [
       "Quarterly periodicity from 1984-03-31 to 2018-12-31 "
      ]
     },
     "metadata": {},
     "output_type": "display_data"
    }
   ],
   "source": [
    "periodicity(data.xts)"
   ]
  },
  {
   "cell_type": "code",
   "execution_count": 10,
   "metadata": {},
   "outputs": [
    {
     "data": {
      "image/png": "[encoded data removed]",
      "text/plain": [
       "plot without title"
      ]
     },
     "metadata": {},
     "output_type": "display_data"
    }
   ],
   "source": [
    "autoplot(data.xts) +\n",
    "  ggtitle(\"10y UK Government Bond Yields (long-term interest rate)\") +\n",
    "  xlab(\"Year\") +\n",
    "  ylab(\"Rate\")"
   ]
  },
  {
   "cell_type": "code",
   "execution_count": null,
   "metadata": {},
   "outputs": [],
   "source": []
  }
 ],
 "metadata": {
  "kernelspec": {
   "display_name": "R",
   "language": "R",
   "name": "ir"
  },
  "language_info": {
   "codemirror_mode": "r",
   "file_extension": ".r",
   "mimetype": "text/x-r-source",
   "name": "R",
   "pygments_lexer": "r",
   "version": "3.5.1"
  }
 },
 "nbformat": 4,
 "nbformat_minor": 2
}
