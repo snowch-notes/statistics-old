{
 "cells": [
  {
   "cell_type": "markdown",
   "metadata": {},
   "source": [
    "ARIMA(p, d, q) \n",
    "\n",
    " - p = order of autoregressive part\n",
    " - d = degree of first differencing involved\n",
    " - q order of the moving average part\n",
    " \n",
    "so AR(2) model = (2,0,0)?"
   ]
  },
  {
   "cell_type": "code",
   "execution_count": 6,
   "metadata": {},
   "outputs": [],
   "source": [
    "source(file = \"util.r\")\n",
    "\n",
    "install_packages(c('ggplot2', 'zoo', 'forecast'), quietly = T, warn.conflicts = F)"
   ]
  },
  {
   "cell_type": "code",
   "execution_count": 9,
   "metadata": {},
   "outputs": [
    {
     "ename": "ERROR",
     "evalue": "Error in arima(AirPassengers, order = c(2, 0, 0), list(order = c(2, 0, : non-stationary seasonal AR part from CSS\n",
     "output_type": "error",
     "traceback": [
      "Error in arima(AirPassengers, order = c(2, 0, 0), list(order = c(2, 0, : non-stationary seasonal AR part from CSS\nTraceback:\n",
      "1. arima(AirPassengers, order = c(2, 0, 0), list(order = c(2, 0, \n .     0)))",
      "2. stop(\"non-stationary seasonal AR part from CSS\")"
     ]
    }
   ],
   "source": [
    "fit <- arima(AirPassengers, order=c(2,0,0), list(order=c(2,0,0)))\n",
    "fit"
   ]
  },
  {
   "cell_type": "code",
   "execution_count": null,
   "metadata": {},
   "outputs": [],
   "source": [
    "library(repr)\n",
    "options(repr.plot.width=6, repr.plot.height=3)\n",
    "\n",
    "autoplot(forecast(fit, h=10))"
   ]
  },
  {
   "cell_type": "code",
   "execution_count": null,
   "metadata": {},
   "outputs": [],
   "source": []
  },
  {
   "cell_type": "code",
   "execution_count": null,
   "metadata": {},
   "outputs": [],
   "source": []
  }
 ],
 "metadata": {
  "kernelspec": {
   "display_name": "R",
   "language": "R",
   "name": "ir"
  },
  "language_info": {
   "codemirror_mode": "r",
   "file_extension": ".r",
   "mimetype": "text/x-r-source",
   "name": "R",
   "pygments_lexer": "r",
   "version": "3.5.1"
  }
 },
 "nbformat": 4,
 "nbformat_minor": 2
}
