{
 "cells": [
  {
   "cell_type": "markdown",
   "metadata": {},
   "source": [
    "### Introduction"
   ]
  },
  {
   "cell_type": "markdown",
   "metadata": {},
   "source": [
    "See https://www.mathsisfun.com/combinatorics/combinations-permutations.html"
   ]
  },
  {
   "cell_type": "markdown",
   "metadata": {},
   "source": [
    "**Permutations**: order is important (a, 1) != (1, a)\n",
    "\n",
    " - With Replacement/Repetition, e.g. bike lock (3, 3, 3, 3)\n",
    " - Without Replacement/Repetition, e.g. password where digit can only be used once (s, e, c, r, 3, t)\n",
    "\n",
    "**Combinations**: order isn't important (a, 1) == (1, a)\n",
    "\n",
    " - With Replacement/Repetition, e.g. ice cream scoops (v, v, c, s)\n",
    " - Without Replacement/Repetition, e.g. lottery or selecting teams of people [(mike, jane), (clare, matt)]\n",
    " \n",
    " "
   ]
  },
  {
   "cell_type": "markdown",
   "metadata": {},
   "source": [
    "#### Calculators / Enumerator: \n",
    "    \n",
    " - sympy : see example notebooks\n",
    "   - https://github.com/snowch-notes/statistics/blob/master/combinatorics/sympy_combinations.ipynb\n",
    "   - https://github.com/snowch-notes/statistics/blob/master/combinatorics/sympy_permutations.ipynb\n",
    "   - https://github.com/snowch-notes/statistics/blob/master/combinatorics/sympy_permutations_vs_combinations.ipynb\n",
    "   - https://github.com/snowch-notes/statistics/blob/master/combinatorics/sympy_partitions.ipynb (related to perm/comb)\n",
    " - https://www.calculatorsoup.com/calculators/discretemathematics/ (calculator only)"
   ]
  },
  {
   "cell_type": "markdown",
   "metadata": {},
   "source": [
    "### Formulas"
   ]
  },
  {
   "cell_type": "markdown",
   "metadata": {},
   "source": [
    "Definitions:\n",
    "\n",
    " - n = number of objects in list\n",
    " - r = number of objects to choose"
   ]
  },
  {
   "cell_type": "markdown",
   "metadata": {},
   "source": [
    "Permutations with replacement"
   ]
  },
  {
   "cell_type": "markdown",
   "metadata": {},
   "source": [
    "$P^R(n, r) = n^{r}$"
   ]
  },
  {
   "cell_type": "markdown",
   "metadata": {},
   "source": [
    "Permutations without replacement"
   ]
  },
  {
   "cell_type": "markdown",
   "metadata": {},
   "source": [
    "$P(n,r) = ^nP_r =  _nP_r = \\frac{n!}{(n-r)!}$"
   ]
  },
  {
   "cell_type": "markdown",
   "metadata": {},
   "source": [
    "Combinations with replacement"
   ]
  },
  {
   "cell_type": "markdown",
   "metadata": {},
   "source": [
    "$C(n,r) = _nC_r = \\binom{n}{r} = \\frac{n!}{r!(n-r)!}$"
   ]
  },
  {
   "cell_type": "markdown",
   "metadata": {},
   "source": [
    "Combinations without replacement"
   ]
  },
  {
   "cell_type": "markdown",
   "metadata": {},
   "source": [
    "$C^R(n,r) = \\frac{(n+r-1)!}{r!(n - 1)!}$"
   ]
  },
  {
   "cell_type": "code",
   "execution_count": null,
   "metadata": {},
   "outputs": [],
   "source": []
  }
 ],
 "metadata": {
  "kernelspec": {
   "display_name": "Python 3",
   "language": "python",
   "name": "python3"
  },
  "language_info": {
   "codemirror_mode": {
    "name": "ipython",
    "version": 3
   },
   "file_extension": ".py",
   "mimetype": "text/x-python",
   "name": "python",
   "nbconvert_exporter": "python",
   "pygments_lexer": "ipython3",
   "version": "3.6.5"
  }
 },
 "nbformat": 4,
 "nbformat_minor": 2
}
