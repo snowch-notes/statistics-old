{
 "cells": [
  {
   "cell_type": "markdown",
   "metadata": {},
   "source": [
    "Simulation for fixed points in permutations"
   ]
  },
  {
   "cell_type": "code",
   "execution_count": 1,
   "metadata": {},
   "outputs": [],
   "source": [
    "from collections import Counter\n",
    "import numpy as np"
   ]
  },
  {
   "cell_type": "code",
   "execution_count": 2,
   "metadata": {},
   "outputs": [],
   "source": [
    "# First count fixed points\n",
    "\n",
    "cnt_fixed_points = { 10: Counter(), 20: Counter(), 30: Counter() }\n",
    "pct_fixed_points = { 10: Counter(), 20: Counter(), 30: Counter() }\n",
    "\n",
    "iterations = 500\n",
    "\n",
    "for p in [ 10, 20, 30 ]:\n",
    "    \n",
    "    # create an ordered list [ 0, 1, 2, 3 .. n ]\n",
    "    ordered_list = np.arange(p)\n",
    "    \n",
    "    for i in range(iterations):\n",
    "        \n",
    "        # shuffle the list\n",
    "        shuffled_list = np.random.permutation(ordered_list)\n",
    "        \n",
    "        # count the fixed points where item maps to itself\n",
    "        num_fp = np.sum(ordered_list == shuffled_list)\n",
    "        \n",
    "        # save counts\n",
    "        cnt_fixed_points[p][num_fp] += 1"
   ]
  },
  {
   "cell_type": "code",
   "execution_count": 3,
   "metadata": {},
   "outputs": [
    {
     "data": {
      "text/plain": [
       "{10: Counter({1: 197, 2: 84, 0: 184, 3: 27, 5: 2, 4: 6}),\n",
       " 20: Counter({1: 194, 0: 184, 2: 89, 3: 27, 4: 6}),\n",
       " 30: Counter({0: 186, 5: 3, 2: 85, 1: 192, 3: 29, 4: 5})}"
      ]
     },
     "execution_count": 3,
     "metadata": {},
     "output_type": "execute_result"
    }
   ],
   "source": [
    "# debugging - print out counts\n",
    "\n",
    "cnt_fixed_points"
   ]
  },
  {
   "cell_type": "code",
   "execution_count": 4,
   "metadata": {},
   "outputs": [],
   "source": [
    "# Convert counts to percentages\n",
    "\n",
    "for p in [ 10, 20, 30 ]:\n",
    "    nfp_per_perm = cnt_fixed_points[p]\n",
    "    \n",
    "    for fp in nfp_per_perm.keys():\n",
    "        pct_fixed_points[p][fp] = nfp_per_perm[fp]/iterations"
   ]
  },
  {
   "cell_type": "code",
   "execution_count": 5,
   "metadata": {},
   "outputs": [
    {
     "data": {
      "text/plain": [
       "{10: Counter({1: 0.394, 2: 0.168, 0: 0.368, 3: 0.054, 5: 0.004, 4: 0.012}),\n",
       " 20: Counter({1: 0.388, 0: 0.368, 2: 0.178, 3: 0.054, 4: 0.012}),\n",
       " 30: Counter({0: 0.372, 5: 0.006, 2: 0.17, 1: 0.384, 3: 0.058, 4: 0.01})}"
      ]
     },
     "execution_count": 5,
     "metadata": {},
     "output_type": "execute_result"
    }
   ],
   "source": [
    "# debugging - print out percentages\n",
    "\n",
    "pct_fixed_points"
   ]
  },
  {
   "cell_type": "code",
   "execution_count": 6,
   "metadata": {},
   "outputs": [
    {
     "name": "stdout",
     "output_type": "stream",
     "text": [
      "                                Fraction of perms           \n",
      "    num fixed points       n=10       n=20       n=30\n",
      "                   0      0.368      0.368      0.372\n",
      "                   1      0.394      0.388      0.384\n",
      "                   2      0.168      0.178      0.170\n",
      "                   3      0.054      0.054      0.058\n",
      "                   4      0.012      0.012      0.010\n",
      "                   5      0.004      0.000      0.006\n"
     ]
    }
   ],
   "source": [
    "# Print summary table\n",
    "\n",
    "FORMAT_STR = '{: >20} {: >10} {: >10} {: >10}'\n",
    "\n",
    "print(FORMAT_STR.format('', '', 'Fraction of perms', ''))\n",
    "print(FORMAT_STR.format('num fixed points', 'n=10', 'n=20', 'n=30'))\n",
    "\n",
    "FORMAT_STR = '{: >20} {: >10.3f} {: >10.3f} {: >10.3f}'\n",
    "\n",
    "for nfp in range(0, 6):\n",
    "    print(FORMAT_STR.format(\n",
    "                    nfp, \n",
    "                    pct_fixed_points[10][nfp], \n",
    "                    pct_fixed_points[20][nfp], \n",
    "                    pct_fixed_points[30][nfp]))"
   ]
  },
  {
   "cell_type": "code",
   "execution_count": null,
   "metadata": {},
   "outputs": [],
   "source": []
  },
  {
   "cell_type": "code",
   "execution_count": null,
   "metadata": {},
   "outputs": [],
   "source": []
  }
 ],
 "metadata": {
  "kernelspec": {
   "display_name": "Python 3",
   "language": "python",
   "name": "python3"
  },
  "language_info": {
   "codemirror_mode": {
    "name": "ipython",
    "version": 3
   },
   "file_extension": ".py",
   "mimetype": "text/x-python",
   "name": "python",
   "nbconvert_exporter": "python",
   "pygments_lexer": "ipython3",
   "version": "3.6.5"
  }
 },
 "nbformat": 4,
 "nbformat_minor": 2
}
