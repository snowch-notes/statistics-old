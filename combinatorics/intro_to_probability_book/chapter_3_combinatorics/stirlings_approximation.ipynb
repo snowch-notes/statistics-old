{
 "cells": [
  {
   "cell_type": "markdown",
   "metadata": {},
   "source": [
    "Stirling's approximation for factorials"
   ]
  },
  {
   "cell_type": "code",
   "execution_count": 33,
   "metadata": {},
   "outputs": [
    {
     "name": "stdout",
     "output_type": "stream",
     "text": [
      "n factorial  stirling difference\n",
      "- ---------  -------- ----------\n",
      "1         1         0          1\n",
      "2         2         1          1\n",
      "3         6         5          1\n",
      "4        24        23          1\n",
      "5       120       118          2\n",
      "6       720       710         10\n",
      "7      5040      4980         60\n",
      "8     40320     39902        418\n",
      "9    362880    359536       3344\n"
     ]
    }
   ],
   "source": [
    "from math import sqrt, exp, pi, factorial\n",
    "\n",
    "def stirling(n):\n",
    "    return int(n**n * exp(-n) * sqrt(2*pi*n))\n",
    "\n",
    "FORMAT_STRING = '{: >1} {: >9} {: >9} {: >10}'\n",
    "\n",
    "print(FORMAT_STRING.format('n', 'factorial', 'stirling', 'difference'))\n",
    "print(FORMAT_STRING.format('-', '---------', '--------', '----------'))\n",
    "\n",
    "for n in range(1, 10):\n",
    "    print(FORMAT_STRING.format( n, factorial(n), stirling(n), factorial(n)-stirling(n)))"
   ]
  },
  {
   "cell_type": "code",
   "execution_count": null,
   "metadata": {},
   "outputs": [],
   "source": []
  }
 ],
 "metadata": {
  "kernelspec": {
   "display_name": "Python 3",
   "language": "python",
   "name": "python3"
  },
  "language_info": {
   "codemirror_mode": {
    "name": "ipython",
    "version": 3
   },
   "file_extension": ".py",
   "mimetype": "text/x-python",
   "name": "python",
   "nbconvert_exporter": "python",
   "pygments_lexer": "ipython3",
   "version": "3.6.5"
  }
 },
 "nbformat": 4,
 "nbformat_minor": 2
}
