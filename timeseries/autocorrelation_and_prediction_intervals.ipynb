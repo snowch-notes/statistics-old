{
 "cells": [
  {
   "cell_type": "markdown",
   "metadata": {},
   "source": [
    "# Autocorrelation and prediction intervals"
   ]
  },
  {
   "cell_type": "markdown",
   "metadata": {},
   "source": [
    "## The correlogram"
   ]
  },
  {
   "cell_type": "markdown",
   "metadata": {},
   "source": [
    "Notes for Open University M249 Time Series book 2 - section 9.1"
   ]
  },
  {
   "cell_type": "code",
   "execution_count": 1,
   "metadata": {},
   "outputs": [],
   "source": [
    "! python -c 'import datapackage' || pip install datapackage"
   ]
  },
  {
   "cell_type": "code",
   "execution_count": 2,
   "metadata": {},
   "outputs": [
    {
     "data": {
      "text/html": [
       "<div>\n",
       "<style scoped>\n",
       "    .dataframe tbody tr th:only-of-type {\n",
       "        vertical-align: middle;\n",
       "    }\n",
       "\n",
       "    .dataframe tbody tr th {\n",
       "        vertical-align: top;\n",
       "    }\n",
       "\n",
       "    .dataframe thead th {\n",
       "        text-align: right;\n",
       "    }\n",
       "</style>\n",
       "<table border=\"1\" class=\"dataframe\">\n",
       "  <thead>\n",
       "    <tr style=\"text-align: right;\">\n",
       "      <th></th>\n",
       "      <th>Rate</th>\n",
       "    </tr>\n",
       "    <tr>\n",
       "      <th>Date</th>\n",
       "      <th></th>\n",
       "    </tr>\n",
       "  </thead>\n",
       "  <tbody>\n",
       "    <tr>\n",
       "      <th>1984-03-31</th>\n",
       "      <td>10.9817</td>\n",
       "    </tr>\n",
       "    <tr>\n",
       "      <th>1984-06-30</th>\n",
       "      <td>11.5721</td>\n",
       "    </tr>\n",
       "    <tr>\n",
       "      <th>1984-09-30</th>\n",
       "      <td>11.9866</td>\n",
       "    </tr>\n",
       "    <tr>\n",
       "      <th>1984-12-31</th>\n",
       "      <td>11.1937</td>\n",
       "    </tr>\n",
       "    <tr>\n",
       "      <th>1985-03-31</th>\n",
       "      <td>11.6959</td>\n",
       "    </tr>\n",
       "  </tbody>\n",
       "</table>\n",
       "</div>"
      ],
      "text/plain": [
       "               Rate\n",
       "Date               \n",
       "1984-03-31  10.9817\n",
       "1984-06-30  11.5721\n",
       "1984-09-30  11.9866\n",
       "1984-12-31  11.1937\n",
       "1985-03-31  11.6959"
      ]
     },
     "execution_count": 2,
     "metadata": {},
     "output_type": "execute_result"
    }
   ],
   "source": [
    "%matplotlib inline\n",
    "\n",
    "import datapackage\n",
    "import pandas as pd\n",
    "\n",
    "# data licensed for non-commercial use only - https://datahub.io/core/bond-yields-uk-10y\n",
    "data_url = 'https://datahub.io/core/bond-yields-uk-10y/datapackage.json'\n",
    "\n",
    "resources = datapackage.Package(data_url).resources\n",
    "\n",
    "quarterly_csv_url = [pkg for pkg in resources if pkg.name == 'quarterly_csv'][0].descriptor['path']\n",
    "data = pd.read_csv(quarterly_csv_url)\n",
    "data = data.set_index('Date', drop=True).asfreq('Q')\n",
    "data.head()"
   ]
  },
  {
   "cell_type": "code",
   "execution_count": null,
   "metadata": {},
   "outputs": [],
   "source": [
    "%matplotlib inline\n",
    "\n",
    "from statsmodels.tsa.api import SimpleExpSmoothing\n",
    "import statsmodels as sm\n",
    "import pandas as pd\n",
    "import numpy as np\n",
    "import matplotlib.pyplot as plt\n",
    "\n",
    "fit = SimpleExpSmoothing(data).fit()\n",
    "fcast = fit.forecast(3).rename('Forecast')\n",
    "\n",
    "plt.rcParams[\"figure.figsize\"] = (10,5)\n",
    "\n",
    "ax = data.plot(legend=True, title='British Goverment Bonds - 10y')\n",
    "ax.set_xlabel('yield')\n",
    "_ = fit.fittedvalues.plot(ax=ax, linestyle='--', color='red')   # predicted past\n",
    "_ = fcast.plot(ax=ax, color='red', linestyle='--', legend=True) # predicted future"
   ]
  },
  {
   "cell_type": "code",
   "execution_count": null,
   "metadata": {},
   "outputs": [],
   "source": [
    "plt.rcParams[\"figure.figsize\"] = (10,5)\n",
    "plt.rc('text', usetex=True)\n",
    "_ = (data['Rate'] - fit.fittedvalues).plot(title='Error term, $E_t = X_t - \\hat{x}_t$')"
   ]
  },
  {
   "cell_type": "code",
   "execution_count": null,
   "metadata": {},
   "outputs": [],
   "source": []
  }
 ],
 "metadata": {
  "kernelspec": {
   "display_name": "Python 3",
   "language": "python",
   "name": "python3"
  },
  "language_info": {
   "codemirror_mode": {
    "name": "ipython",
    "version": 3
   },
   "file_extension": ".py",
   "mimetype": "text/x-python",
   "name": "python",
   "nbconvert_exporter": "python",
   "pygments_lexer": "ipython3",
   "version": "3.6.5"
  }
 },
 "nbformat": 4,
 "nbformat_minor": 2
}
